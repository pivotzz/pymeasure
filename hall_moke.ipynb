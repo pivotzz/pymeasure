{
 "cells": [
  {
   "cell_type": "code",
   "execution_count": 6,
   "metadata": {},
   "outputs": [
    {
     "name": "stdout",
     "output_type": "stream",
     "text": [
      "['c:\\\\Users\\\\user\\\\Documents\\\\GitHub\\\\pymeasure', 'c:\\\\Users\\\\user\\\\anaconda3\\\\python312.zip', 'c:\\\\Users\\\\user\\\\anaconda3\\\\DLLs', 'c:\\\\Users\\\\user\\\\anaconda3\\\\Lib', 'c:\\\\Users\\\\user\\\\anaconda3', '', 'c:\\\\Users\\\\user\\\\anaconda3\\\\Lib\\\\site-packages', 'c:\\\\Users\\\\user\\\\anaconda3\\\\Lib\\\\site-packages\\\\win32', 'c:\\\\Users\\\\user\\\\anaconda3\\\\Lib\\\\site-packages\\\\win32\\\\lib', 'c:\\\\Users\\\\user\\\\anaconda3\\\\Lib\\\\site-packages\\\\Pythonwin', '/Users/pvtz/Documents/GitHub/pymeasure', '/Users/pvtz/Documents/GitHub/pymeasure', '/Users/pvtz/Documents/GitHub/pymeasure', '/Users/pvtz/Documents/GitHub/pymeasure', '/Users/pvtz/Documents/GitHub/pymeasure']\n",
      "[295.93, 0.0]\n"
     ]
    }
   ],
   "source": [
    "import sys\n",
    "import os\n",
    "\n",
    "print(sys.path)\n",
    "sys.path.append(\"/Users/pvtz/Documents/GitHub/pymeasure\")\n",
    "from pymeasure.instruments.resources import list_resources\n",
    "#list_resources()\n",
    "from lakeshore import Model335\n",
    "#from or_x import ORXFunctionGenerator\n",
    "\n",
    "temp_controller = Model335(com_port = \"COM3\", baud_rate = 57600)\n",
    "temp_controller.set_setpoint_ramp_parameter(1, True, 1)\n",
    "temp_controller.set_control_setpoint(1, 299)\n",
    "temp_controller.set_heater_range(1, temp_controller.HeaterRange.HIGH)\n",
    "\n",
    "temp_controller.get_all_kelvin_reading()\n",
    "print(temp_controller.get_all_kelvin_reading())\n",
    "temp_controller.disconnect_usb()"
   ]
  }
 ],
 "metadata": {
  "kernelspec": {
   "display_name": ".venv",
   "language": "python",
   "name": "python3"
  },
  "language_info": {
   "codemirror_mode": {
    "name": "ipython",
    "version": 3
   },
   "file_extension": ".py",
   "mimetype": "text/x-python",
   "name": "python",
   "nbconvert_exporter": "python",
   "pygments_lexer": "ipython3",
   "version": "3.12.3"
  }
 },
 "nbformat": 4,
 "nbformat_minor": 2
}
