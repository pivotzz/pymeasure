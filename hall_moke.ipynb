{
 "cells": [
  {
   "cell_type": "code",
   "execution_count": 8,
   "metadata": {},
   "outputs": [
    {
     "name": "stdout",
     "output_type": "stream",
     "text": [
      "['/Library/Developer/CommandLineTools/Library/Frameworks/Python3.framework/Versions/3.9/lib/python39.zip', '/Library/Developer/CommandLineTools/Library/Frameworks/Python3.framework/Versions/3.9/lib/python3.9', '/Library/Developer/CommandLineTools/Library/Frameworks/Python3.framework/Versions/3.9/lib/python3.9/lib-dynload', '', '/Users/pvtz/Documents/GitHub/pymeasure/.venv/lib/python3.9/site-packages', '/Users/pvtz/Documents/GitHub/pymeasure/']\n"
     ]
    },
    {
     "ename": "ImportError",
     "evalue": "cannot import name 'ORXFunctionGenerator' from 'or_x' (/Users/pvtz/Documents/GitHub/pymeasure/or_x.py)",
     "output_type": "error",
     "traceback": [
      "\u001b[0;31m---------------------------------------------------------------------------\u001b[0m",
      "\u001b[0;31mImportError\u001b[0m                               Traceback (most recent call last)",
      "Cell \u001b[0;32mIn[8], line 7\u001b[0m\n\u001b[1;32m      5\u001b[0m \u001b[38;5;66;03m#list_resources()\u001b[39;00m\n\u001b[1;32m      6\u001b[0m \u001b[38;5;28;01mfrom\u001b[39;00m \u001b[38;5;21;01mlakeshore\u001b[39;00m \u001b[38;5;28;01mimport\u001b[39;00m Model335\n\u001b[0;32m----> 7\u001b[0m \u001b[38;5;28;01mfrom\u001b[39;00m \u001b[38;5;21;01mor_x\u001b[39;00m \u001b[38;5;28;01mimport\u001b[39;00m ORXFunctionGenerator\n\u001b[1;32m      9\u001b[0m temp_controller \u001b[38;5;241m=\u001b[39m Model335(com_port \u001b[38;5;241m=\u001b[39m \u001b[38;5;124m\"\u001b[39m\u001b[38;5;124mCOM3\u001b[39m\u001b[38;5;124m\"\u001b[39m, baud_rate \u001b[38;5;241m=\u001b[39m \u001b[38;5;241m57600\u001b[39m)\n\u001b[1;32m     10\u001b[0m temp_controller\u001b[38;5;241m.\u001b[39mset_setpoint_ramp_parameter(\u001b[38;5;241m1\u001b[39m, \u001b[38;5;28;01mFalse\u001b[39;00m, \u001b[38;5;241m0\u001b[39m)\n",
      "\u001b[0;31mImportError\u001b[0m: cannot import name 'ORXFunctionGenerator' from 'or_x' (/Users/pvtz/Documents/GitHub/pymeasure/or_x.py)"
     ]
    }
   ],
   "source": [
    "import sys\n",
    "print(sys.path)\n",
    "sys.path.append(\"/Users/pvtz/Documents/GitHub/pymeasure\")\n",
    "from pymeasure.instruments.resources import list_resources\n",
    "#list_resources()\n",
    "from lakeshore import Model335\n",
    "from or_x import ORXFunctionGenerator\n",
    "\n",
    "temp_controller = Model335(com_port = \"COM3\", baud_rate = 57600)\n",
    "temp_controller.set_setpoint_ramp_parameter(1, False, 0)\n",
    "temp_controller.set_control_setpoint(1, 200)\n",
    "temp_controller.set_heater_range(1, temp_controller.HeaterRange.HIGH)\n",
    "\n",
    "temp_controller.get_all_kelvin_reading()\n",
    "print(temp_controller.get_all_kelvin_reading())\n",
    "temp_controller.disconnect_usb()"
   ]
  }
 ],
 "metadata": {
  "kernelspec": {
   "display_name": ".venv",
   "language": "python",
   "name": "python3"
  },
  "language_info": {
   "codemirror_mode": {
    "name": "ipython",
    "version": 3
   },
   "file_extension": ".py",
   "mimetype": "text/x-python",
   "name": "python",
   "nbconvert_exporter": "python",
   "pygments_lexer": "ipython3",
   "version": "3.9.6"
  }
 },
 "nbformat": 4,
 "nbformat_minor": 2
}
