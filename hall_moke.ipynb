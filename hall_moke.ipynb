{
 "cells": [
  {
   "cell_type": "code",
   "execution_count": 1,
   "metadata": {},
   "outputs": [
    {
     "name": "stdout",
     "output_type": "stream",
     "text": [
      "[297.73, 0.0]\n"
     ]
    }
   ],
   "source": [
    "from pymeasure.instruments.resources import list_resources\n",
    "#list_resources()\n",
    "from lakeshore import Model335\n",
    "\n",
    "temp_controller = Model335(com_port = \"COM3\", baud_rate = 57600)\n",
    "temp_controller.set_setpoint_ramp_parameter(1, False, 0)\n",
    "temp_controller.set_control_setpoint(1, 200)\n",
    "temp_controller.set_heater_range(1, temp_controller.HeaterRange.HIGH)\n",
    "\n",
    "temp_controller.get_all_kelvin_reading()\n",
    "print(temp_controller.get_all_kelvin_reading())\n",
    "temp_controller.disconnect_usb()\n",
    "\n",
    "# suck my nuts"
   ]
  }
 ],
 "metadata": {
  "kernelspec": {
   "display_name": ".venv",
   "language": "python",
   "name": "python3"
  },
  "language_info": {
   "codemirror_mode": {
    "name": "ipython",
    "version": 3
   },
   "file_extension": ".py",
   "mimetype": "text/x-python",
   "name": "python",
   "nbconvert_exporter": "python",
   "pygments_lexer": "ipython3",
   "version": "3.12.3"
  }
 },
 "nbformat": 4,
 "nbformat_minor": 2
}
